{
  "nbformat": 4,
  "nbformat_minor": 0,
  "metadata": {
    "colab": {
      "name": "sets.ipynb",
      "provenance": [],
      "authorship_tag": "ABX9TyNy5vzXD32auA5zMwnuTEPB",
      "include_colab_link": true
    },
    "kernelspec": {
      "name": "python3",
      "display_name": "Python 3"
    },
    "language_info": {
      "name": "python"
    }
  },
  "cells": [
    {
      "cell_type": "markdown",
      "metadata": {
        "id": "view-in-github",
        "colab_type": "text"
      },
      "source": [
        "<a href=\"https://colab.research.google.com/github/ARAVIND-065/python-practice/blob/main/sets.ipynb\" target=\"_parent\"><img src=\"https://colab.research.google.com/assets/colab-badge.svg\" alt=\"Open In Colab\"/></a>"
      ]
    },
    {
      "cell_type": "code",
      "execution_count": null,
      "metadata": {
        "colab": {
          "base_uri": "https://localhost:8080/"
        },
        "id": "kPUOIAOjTbN7",
        "outputId": "c25dcc84-da5c-4771-fbf4-373711878a1e"
      },
      "outputs": [
        {
          "output_type": "stream",
          "name": "stdout",
          "text": [
            "3\n"
          ]
        }
      ],
      "source": [
        "a = {\"grapes\",\"cherry\",\"mango\"}\n",
        "print(len(a))"
      ]
    },
    {
      "cell_type": "markdown",
      "source": [
        "#access set"
      ],
      "metadata": {
        "id": "8YGJZhRTWOUA"
      }
    },
    {
      "cell_type": "code",
      "source": [
        "a = {\"grapes\",\"cherry\",\"mango\"}\n",
        "for w in a:\n",
        "  print(w)"
      ],
      "metadata": {
        "colab": {
          "base_uri": "https://localhost:8080/"
        },
        "id": "kFeel-7dWVkY",
        "outputId": "6963ca6d-25c8-4b38-f5b4-3830a6af52f0"
      },
      "execution_count": null,
      "outputs": [
        {
          "output_type": "stream",
          "name": "stdout",
          "text": [
            "grapes\n",
            "mango\n",
            "cherry\n"
          ]
        }
      ]
    },
    {
      "cell_type": "code",
      "source": [
        "a = {\"grapes\",\"cherry\",\"mango\"}\n",
        "print(\"mango\" in a)"
      ],
      "metadata": {
        "colab": {
          "base_uri": "https://localhost:8080/"
        },
        "id": "5TEmOEIZXAc0",
        "outputId": "61fb2e0f-6481-40e8-edb0-6440baa19d66"
      },
      "execution_count": null,
      "outputs": [
        {
          "output_type": "stream",
          "name": "stdout",
          "text": [
            "True\n"
          ]
        }
      ]
    },
    {
      "cell_type": "markdown",
      "source": [
        "#add set"
      ],
      "metadata": {
        "id": "jg-F53FaX6SJ"
      }
    },
    {
      "cell_type": "code",
      "source": [
        "a = {\"grapes\",\"cherry\",\"mango\"}\n",
        "a.add(\"orange\")\n",
        "print(a)"
      ],
      "metadata": {
        "colab": {
          "base_uri": "https://localhost:8080/"
        },
        "id": "fbx-rCEGX9PJ",
        "outputId": "980054a2-edaa-4007-b491-8788c8755d3f"
      },
      "execution_count": null,
      "outputs": [
        {
          "output_type": "stream",
          "name": "stdout",
          "text": [
            "{'orange', 'grapes', 'mango', 'cherry'}\n"
          ]
        }
      ]
    },
    {
      "cell_type": "code",
      "source": [
        "a = {\"grapes\",\"cherry\",\"mango\"}\n",
        "b = {\"orage\",\"pineapple\",\"watermelon\"}\n",
        "a.update(b)\n",
        "print(a)"
      ],
      "metadata": {
        "colab": {
          "base_uri": "https://localhost:8080/"
        },
        "id": "F_ma_fFZYK5q",
        "outputId": "22be6388-b22b-4fae-a2b2-688be7d97ea5"
      },
      "execution_count": null,
      "outputs": [
        {
          "output_type": "stream",
          "name": "stdout",
          "text": [
            "{'cherry', 'orage', 'watermelon', 'pineapple', 'grapes', 'mango'}\n"
          ]
        }
      ]
    },
    {
      "cell_type": "markdown",
      "source": [
        "#remove item"
      ],
      "metadata": {
        "id": "PR9scZkPZIzc"
      }
    },
    {
      "cell_type": "code",
      "source": [
        "a = {\"grapes\",\"cherry\",\"mango\"}\n",
        "a.remove(\"cherry\")\n",
        "print(a)"
      ],
      "metadata": {
        "colab": {
          "base_uri": "https://localhost:8080/"
        },
        "id": "Gjt_2Pf0ZMV_",
        "outputId": "352dab56-ee14-4c4d-d82e-8265109c2792"
      },
      "execution_count": null,
      "outputs": [
        {
          "output_type": "stream",
          "name": "stdout",
          "text": [
            "{'grapes', 'mango'}\n"
          ]
        }
      ]
    },
    {
      "cell_type": "code",
      "source": [
        "a = {\"grapes\",\"cherry\",\"mango\"}\n",
        "b = a.pop()\n",
        "print(b)\n",
        "print(a)"
      ],
      "metadata": {
        "colab": {
          "base_uri": "https://localhost:8080/"
        },
        "id": "bQlxUI74aDtM",
        "outputId": "a952fca8-e63a-4fbf-c48f-45fe62f7408c"
      },
      "execution_count": null,
      "outputs": [
        {
          "output_type": "stream",
          "name": "stdout",
          "text": [
            "grapes\n",
            "{'mango', 'cherry'}\n"
          ]
        }
      ]
    },
    {
      "cell_type": "code",
      "source": [
        "a = {\"grapes\",\"cherry\",\"mango\"}\n",
        "a.clear()\n",
        "print(a)"
      ],
      "metadata": {
        "colab": {
          "base_uri": "https://localhost:8080/"
        },
        "id": "VWn_vDfjamcI",
        "outputId": "9a6148a6-1d65-48ca-ba08-55ac54899853"
      },
      "execution_count": null,
      "outputs": [
        {
          "output_type": "stream",
          "name": "stdout",
          "text": [
            "set()\n"
          ]
        }
      ]
    },
    {
      "cell_type": "markdown",
      "source": [
        "#loops"
      ],
      "metadata": {
        "id": "qQUP4ByIbRsZ"
      }
    },
    {
      "cell_type": "code",
      "source": [
        "a = {\"grapes\",\"cherry\",\"mango\"}\n",
        "for w in a:\n",
        "  print(w)"
      ],
      "metadata": {
        "colab": {
          "base_uri": "https://localhost:8080/"
        },
        "id": "ZIiSYjfRbTqx",
        "outputId": "8d0f7e1d-930f-499a-ffda-ff5aa738f729"
      },
      "execution_count": null,
      "outputs": [
        {
          "output_type": "stream",
          "name": "stdout",
          "text": [
            "grapes\n",
            "mango\n",
            "cherry\n"
          ]
        }
      ]
    },
    {
      "cell_type": "markdown",
      "source": [
        "#join"
      ],
      "metadata": {
        "id": "uh4yR7IObpDq"
      }
    },
    {
      "cell_type": "code",
      "source": [
        "a = {\"grapes\",\"cherry\",\"mango\"}\n",
        "b = {\"orage\",\"pineapple\",\"watermelon\"}\n",
        "c = a.union(b)\n",
        "print(c)"
      ],
      "metadata": {
        "colab": {
          "base_uri": "https://localhost:8080/"
        },
        "id": "ae8x4IYUbrIL",
        "outputId": "f5277f86-690c-4777-b383-d54e3588db3f"
      },
      "execution_count": null,
      "outputs": [
        {
          "output_type": "stream",
          "name": "stdout",
          "text": [
            "{'cherry', 'orage', 'watermelon', 'pineapple', 'grapes', 'mango'}\n"
          ]
        }
      ]
    },
    {
      "cell_type": "code",
      "source": [
        "a = {\"grapes\",\"cherry\",\"mango\"}\n",
        "b = {\"1\",\"2\",\"3\"}\n",
        "a.update(b)\n",
        "print(a)"
      ],
      "metadata": {
        "colab": {
          "base_uri": "https://localhost:8080/"
        },
        "id": "a8R7e1xbcqUG",
        "outputId": "0ecdba14-ee03-49e2-e36b-a0d3fd63dc1f"
      },
      "execution_count": null,
      "outputs": [
        {
          "output_type": "stream",
          "name": "stdout",
          "text": [
            "{'3', 'cherry', '2', '1', 'grapes', 'mango'}\n"
          ]
        }
      ]
    },
    {
      "cell_type": "code",
      "source": [
        "a = {\"grapes\",\"cherry\",\"mango\"}\n",
        "b = {\"cherry\",\"pineapple\",\"watermelon\"}\n",
        "a.intersection_update(b)\n",
        "print(a)"
      ],
      "metadata": {
        "colab": {
          "base_uri": "https://localhost:8080/"
        },
        "id": "SEIpx-E_cz3l",
        "outputId": "edf39fbf-8b43-47cf-dc5b-a454a2854434"
      },
      "execution_count": null,
      "outputs": [
        {
          "output_type": "stream",
          "name": "stdout",
          "text": [
            "{'cherry'}\n"
          ]
        }
      ]
    },
    {
      "cell_type": "code",
      "source": [
        "a = {\"grapes\",\"cherry\",\"mango\"}\n",
        "b = {\"mango\",\"pineapple\",\"watermelon\"}\n",
        "c = a.intersection(b)\n",
        "print(c)"
      ],
      "metadata": {
        "colab": {
          "base_uri": "https://localhost:8080/"
        },
        "id": "hxZyg167dSFH",
        "outputId": "97f039a2-34e2-4950-876c-02b1130c660b"
      },
      "execution_count": null,
      "outputs": [
        {
          "output_type": "stream",
          "name": "stdout",
          "text": [
            "{'mango'}\n"
          ]
        }
      ]
    },
    {
      "cell_type": "code",
      "source": [
        "a = {\"grapes\",\"cherry\",\"mango\"}\n",
        "b = {\"mango\",\"pineapple\",\"watermelon\"}\n",
        "a.symmetric_difference_update(b)\n",
        "print(a)"
      ],
      "metadata": {
        "colab": {
          "base_uri": "https://localhost:8080/"
        },
        "id": "9ukT-uR5d-UB",
        "outputId": "75d2f92f-4929-440e-dedc-622e12fd460b"
      },
      "execution_count": null,
      "outputs": [
        {
          "output_type": "stream",
          "name": "stdout",
          "text": [
            "{'cherry', 'watermelon', 'pineapple', 'grapes'}\n"
          ]
        }
      ]
    },
    {
      "cell_type": "code",
      "source": [
        "a = {\"grapes\",\"cherry\",\"mango\"}\n",
        "b = {\"mango\",\"pineapple\",\"watermelon\"}\n",
        "c = a.symmetric_difference(b)\n",
        "print(c)"
      ],
      "metadata": {
        "colab": {
          "base_uri": "https://localhost:8080/"
        },
        "id": "iliX84rCeV3x",
        "outputId": "6329a647-2a56-48da-ec98-7dce24b64a8c"
      },
      "execution_count": null,
      "outputs": [
        {
          "output_type": "stream",
          "name": "stdout",
          "text": [
            "{'watermelon', 'pineapple', 'cherry', 'grapes'}\n"
          ]
        }
      ]
    }
  ]
}