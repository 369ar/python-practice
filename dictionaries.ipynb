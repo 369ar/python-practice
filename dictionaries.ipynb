{
  "nbformat": 4,
  "nbformat_minor": 0,
  "metadata": {
    "colab": {
      "name": "dictionaries.ipynb",
      "provenance": [],
      "collapsed_sections": [],
      "authorship_tag": "ABX9TyNYnB1YYedkGGJNfxpPnXdK",
      "include_colab_link": true
    },
    "kernelspec": {
      "name": "python3",
      "display_name": "Python 3"
    },
    "language_info": {
      "name": "python"
    }
  },
  "cells": [
    {
      "cell_type": "markdown",
      "metadata": {
        "id": "view-in-github",
        "colab_type": "text"
      },
      "source": [
        "<a href=\"https://colab.research.google.com/github/ARAVIND-065/python-practice/blob/main/dictionaries.ipynb\" target=\"_parent\"><img src=\"https://colab.research.google.com/assets/colab-badge.svg\" alt=\"Open In Colab\"/></a>"
      ]
    },
    {
      "cell_type": "markdown",
      "source": [
        "#items"
      ],
      "metadata": {
        "id": "iVA8bXWne4NC"
      }
    },
    {
      "cell_type": "code",
      "source": [
        "a = {\n",
        "  \"brand\": \"rocky\",\n",
        "  \"model\": \"mass\",\n",
        "  \"year\": 1965\n",
        "}\n",
        "print(a[\"brand\"])\n"
      ],
      "metadata": {
        "colab": {
          "base_uri": "https://localhost:8080/"
        },
        "id": "8Gjln-fFe5vi",
        "outputId": "d98f6b08-b5a7-40bb-d349-432e9a3f7a0d"
      },
      "execution_count": 2,
      "outputs": [
        {
          "output_type": "stream",
          "name": "stdout",
          "text": [
            "rocky\n"
          ]
        }
      ]
    },
    {
      "cell_type": "code",
      "source": [
        "a = {\n",
        "  \"brand\": \"rocky\",\n",
        "  \"model\": \"mass\",\n",
        "  \"year\": 1965\n",
        "}\n",
        "print(len(a))"
      ],
      "metadata": {
        "colab": {
          "base_uri": "https://localhost:8080/"
        },
        "id": "yrbvkTRNg8Gg",
        "outputId": "00661080-b381-43e8-e021-8c571096bbfc"
      },
      "execution_count": 3,
      "outputs": [
        {
          "output_type": "stream",
          "name": "stdout",
          "text": [
            "3\n"
          ]
        }
      ]
    },
    {
      "cell_type": "code",
      "source": [
        "a = {\n",
        "  \"brand\": \"rocky\",\n",
        "  \"model\": \"mass\",\n",
        "  \"year\": 1965\n",
        "}\n",
        "print(type(a))"
      ],
      "metadata": {
        "colab": {
          "base_uri": "https://localhost:8080/"
        },
        "id": "jC0JP68nhfV4",
        "outputId": "990007f7-3f13-42a2-90ec-0d2a7b887131"
      },
      "execution_count": 4,
      "outputs": [
        {
          "output_type": "stream",
          "name": "stdout",
          "text": [
            "<class 'dict'>\n"
          ]
        }
      ]
    },
    {
      "cell_type": "markdown",
      "source": [
        "#accessing items"
      ],
      "metadata": {
        "id": "uz7rzaCGhqlJ"
      }
    },
    {
      "cell_type": "code",
      "source": [
        "a = {\n",
        "  \"brand\": \"rocky\",\n",
        "  \"model\": \"mass\",\n",
        "  \"year\": 1965\n",
        "}\n",
        "w = a[\"model\"]\n",
        "print(w)"
      ],
      "metadata": {
        "colab": {
          "base_uri": "https://localhost:8080/"
        },
        "id": "L97MaYpLhyrB",
        "outputId": "721db9e5-3248-4350-cbc8-749ae681f43f"
      },
      "execution_count": 5,
      "outputs": [
        {
          "output_type": "stream",
          "name": "stdout",
          "text": [
            "mass\n"
          ]
        }
      ]
    },
    {
      "cell_type": "code",
      "source": [
        "a = {\n",
        "  \"brand\": \"rocky\",\n",
        "  \"model\": \"mass\",\n",
        "  \"year\": 1965\n",
        "}\n",
        "w = a.get(\"model\")\n",
        "\n",
        "print(w)"
      ],
      "metadata": {
        "colab": {
          "base_uri": "https://localhost:8080/"
        },
        "id": "hbvTh2DEiDbB",
        "outputId": "034805f7-b078-4d7e-8e36-bb5b9ee9f105"
      },
      "execution_count": 6,
      "outputs": [
        {
          "output_type": "stream",
          "name": "stdout",
          "text": [
            "mass\n"
          ]
        }
      ]
    },
    {
      "cell_type": "markdown",
      "source": [
        "#get keys"
      ],
      "metadata": {
        "id": "QG-dySDCjAol"
      }
    },
    {
      "cell_type": "code",
      "source": [
        "a = {\n",
        "  \"brand\": \"rocky\",\n",
        "  \"model\": \"mass\",\n",
        "  \"year\": 1965\n",
        "}\n",
        "w = a.keys()\n",
        "print(w)"
      ],
      "metadata": {
        "colab": {
          "base_uri": "https://localhost:8080/"
        },
        "id": "tnss65ObiW48",
        "outputId": "6403ccea-9f87-4545-e95e-c42018b490ec"
      },
      "execution_count": 7,
      "outputs": [
        {
          "output_type": "stream",
          "name": "stdout",
          "text": [
            "dict_keys(['brand', 'model', 'year'])\n"
          ]
        }
      ]
    },
    {
      "cell_type": "markdown",
      "source": [
        "#get values"
      ],
      "metadata": {
        "id": "anYXJUcxjQAE"
      }
    },
    {
      "cell_type": "code",
      "source": [
        "a = {\n",
        "  \"brand\": \"rocky\",\n",
        "  \"model\": \"mass\",\n",
        "  \"year\": 1965\n",
        "}\n",
        "w = a.values()\n",
        "print(w)"
      ],
      "metadata": {
        "colab": {
          "base_uri": "https://localhost:8080/"
        },
        "id": "LXL0DEolin8D",
        "outputId": "3fa470aa-1871-4897-fa14-d70df5229754"
      },
      "execution_count": 8,
      "outputs": [
        {
          "output_type": "stream",
          "name": "stdout",
          "text": [
            "dict_values(['rocky', 'mass', 1965])\n"
          ]
        }
      ]
    },
    {
      "cell_type": "markdown",
      "source": [
        "#get items"
      ],
      "metadata": {
        "id": "-2gXVhJOjVMz"
      }
    },
    {
      "cell_type": "code",
      "source": [
        "a = {\n",
        "  \"brand\": \"rocky\",\n",
        "  \"model\": \"mass\",\n",
        "  \"year\": 1965\n",
        "}\n",
        "w = a.items()\n",
        "print(w)"
      ],
      "metadata": {
        "colab": {
          "base_uri": "https://localhost:8080/"
        },
        "id": "QLVrdlhVi1Sz",
        "outputId": "14f80645-4f38-46af-8ce0-05499764be19"
      },
      "execution_count": 9,
      "outputs": [
        {
          "output_type": "stream",
          "name": "stdout",
          "text": [
            "dict_items([('brand', 'rocky'), ('model', 'mass'), ('year', 1965)])\n"
          ]
        }
      ]
    },
    {
      "cell_type": "code",
      "source": [
        "a = {\n",
        "  \"brand\": \"rocky\",\n",
        "  \"model\": \"mass\",\n",
        "  \"year\": 1965\n",
        "}\n",
        "w = a.items()\n",
        "print(w)\n",
        "a[\"movie\"]=\"kgf\"\n",
        "print(w)"
      ],
      "metadata": {
        "colab": {
          "base_uri": "https://localhost:8080/"
        },
        "id": "4Fcwd2Eejhmc",
        "outputId": "74824361-563d-4f8a-acd3-3960b23081ad"
      },
      "execution_count": 10,
      "outputs": [
        {
          "output_type": "stream",
          "name": "stdout",
          "text": [
            "dict_items([('brand', 'rocky'), ('model', 'mass'), ('year', 1965)])\n",
            "dict_items([('brand', 'rocky'), ('model', 'mass'), ('year', 1965), ('movie', 'kgf')])\n"
          ]
        }
      ]
    },
    {
      "cell_type": "markdown",
      "source": [
        "#check if key exists"
      ],
      "metadata": {
        "id": "POSKaSSwkEc9"
      }
    },
    {
      "cell_type": "code",
      "source": [
        "a = {\n",
        "  \"brand\": \"rocky\",\n",
        "  \"model\": \"mass\",\n",
        "  \"year\": 1965\n",
        "}\n",
        "if \"brand\" in a:\n",
        "  print(\"yes,'brand' is in a\")\n"
      ],
      "metadata": {
        "colab": {
          "base_uri": "https://localhost:8080/"
        },
        "id": "MYgPmRQekLYk",
        "outputId": "603ae164-52e8-4202-afb3-9b909a68fa39"
      },
      "execution_count": 16,
      "outputs": [
        {
          "output_type": "stream",
          "name": "stdout",
          "text": [
            "yes,'brand' is in a\n"
          ]
        }
      ]
    },
    {
      "cell_type": "code",
      "source": [
        ""
      ],
      "metadata": {
        "id": "3LRamKMsli3m"
      },
      "execution_count": null,
      "outputs": []
    }
  ]
}