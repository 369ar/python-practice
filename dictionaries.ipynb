{
  "nbformat": 4,
  "nbformat_minor": 0,
  "metadata": {
    "colab": {
      "name": "dictionaries.ipynb",
      "provenance": [],
      "collapsed_sections": [],
      "authorship_tag": "ABX9TyOnlPkiVCVDUa6uHE4uf6pw",
      "include_colab_link": true
    },
    "kernelspec": {
      "name": "python3",
      "display_name": "Python 3"
    },
    "language_info": {
      "name": "python"
    }
  },
  "cells": [
    {
      "cell_type": "markdown",
      "metadata": {
        "id": "view-in-github",
        "colab_type": "text"
      },
      "source": [
        "<a href=\"https://colab.research.google.com/github/ARAVIND-065/python-practice/blob/main/dictionaries.ipynb\" target=\"_parent\"><img src=\"https://colab.research.google.com/assets/colab-badge.svg\" alt=\"Open In Colab\"/></a>"
      ]
    },
    {
      "cell_type": "markdown",
      "source": [
        "#items"
      ],
      "metadata": {
        "id": "iVA8bXWne4NC"
      }
    },
    {
      "cell_type": "code",
      "source": [
        "a = {\n",
        "  \"brand\": \"rocky\",\n",
        "  \"model\": \"mass\",\n",
        "  \"year\": 1965\n",
        "}\n",
        "print(a[\"brand\"])\n"
      ],
      "metadata": {
        "colab": {
          "base_uri": "https://localhost:8080/"
        },
        "id": "8Gjln-fFe5vi",
        "outputId": "d98f6b08-b5a7-40bb-d349-432e9a3f7a0d"
      },
      "execution_count": null,
      "outputs": [
        {
          "output_type": "stream",
          "name": "stdout",
          "text": [
            "rocky\n"
          ]
        }
      ]
    },
    {
      "cell_type": "code",
      "source": [
        "a = {\n",
        "  \"brand\": \"rocky\",\n",
        "  \"model\": \"mass\",\n",
        "  \"year\": 1965\n",
        "}\n",
        "print(len(a))"
      ],
      "metadata": {
        "colab": {
          "base_uri": "https://localhost:8080/"
        },
        "id": "yrbvkTRNg8Gg",
        "outputId": "00661080-b381-43e8-e021-8c571096bbfc"
      },
      "execution_count": null,
      "outputs": [
        {
          "output_type": "stream",
          "name": "stdout",
          "text": [
            "3\n"
          ]
        }
      ]
    },
    {
      "cell_type": "code",
      "source": [
        "a = {\n",
        "  \"brand\": \"rocky\",\n",
        "  \"model\": \"mass\",\n",
        "  \"year\": 1965\n",
        "}\n",
        "print(type(a))"
      ],
      "metadata": {
        "colab": {
          "base_uri": "https://localhost:8080/"
        },
        "id": "jC0JP68nhfV4",
        "outputId": "990007f7-3f13-42a2-90ec-0d2a7b887131"
      },
      "execution_count": null,
      "outputs": [
        {
          "output_type": "stream",
          "name": "stdout",
          "text": [
            "<class 'dict'>\n"
          ]
        }
      ]
    },
    {
      "cell_type": "markdown",
      "source": [
        "#accessing items"
      ],
      "metadata": {
        "id": "uz7rzaCGhqlJ"
      }
    },
    {
      "cell_type": "code",
      "source": [
        "a = {\n",
        "  \"brand\": \"rocky\",\n",
        "  \"model\": \"mass\",\n",
        "  \"year\": 1965\n",
        "}\n",
        "w = a[\"model\"]\n",
        "print(w)"
      ],
      "metadata": {
        "colab": {
          "base_uri": "https://localhost:8080/"
        },
        "id": "L97MaYpLhyrB",
        "outputId": "721db9e5-3248-4350-cbc8-749ae681f43f"
      },
      "execution_count": null,
      "outputs": [
        {
          "output_type": "stream",
          "name": "stdout",
          "text": [
            "mass\n"
          ]
        }
      ]
    },
    {
      "cell_type": "code",
      "source": [
        "a = {\n",
        "  \"brand\": \"rocky\",\n",
        "  \"model\": \"mass\",\n",
        "  \"year\": 1965\n",
        "}\n",
        "w = a.get(\"model\")\n",
        "\n",
        "print(w)"
      ],
      "metadata": {
        "colab": {
          "base_uri": "https://localhost:8080/"
        },
        "id": "hbvTh2DEiDbB",
        "outputId": "034805f7-b078-4d7e-8e36-bb5b9ee9f105"
      },
      "execution_count": null,
      "outputs": [
        {
          "output_type": "stream",
          "name": "stdout",
          "text": [
            "mass\n"
          ]
        }
      ]
    },
    {
      "cell_type": "markdown",
      "source": [
        "#get keys"
      ],
      "metadata": {
        "id": "QG-dySDCjAol"
      }
    },
    {
      "cell_type": "code",
      "source": [
        "a = {\n",
        "  \"brand\": \"rocky\",\n",
        "  \"model\": \"mass\",\n",
        "  \"year\": 1965\n",
        "}\n",
        "w = a.keys()\n",
        "print(w)"
      ],
      "metadata": {
        "colab": {
          "base_uri": "https://localhost:8080/"
        },
        "id": "tnss65ObiW48",
        "outputId": "6403ccea-9f87-4545-e95e-c42018b490ec"
      },
      "execution_count": null,
      "outputs": [
        {
          "output_type": "stream",
          "name": "stdout",
          "text": [
            "dict_keys(['brand', 'model', 'year'])\n"
          ]
        }
      ]
    },
    {
      "cell_type": "markdown",
      "source": [
        "#get values"
      ],
      "metadata": {
        "id": "anYXJUcxjQAE"
      }
    },
    {
      "cell_type": "code",
      "source": [
        "a = {\n",
        "  \"brand\": \"rocky\",\n",
        "  \"model\": \"mass\",\n",
        "  \"year\": 1965\n",
        "}\n",
        "w = a.values()\n",
        "print(w)"
      ],
      "metadata": {
        "colab": {
          "base_uri": "https://localhost:8080/"
        },
        "id": "LXL0DEolin8D",
        "outputId": "3fa470aa-1871-4897-fa14-d70df5229754"
      },
      "execution_count": null,
      "outputs": [
        {
          "output_type": "stream",
          "name": "stdout",
          "text": [
            "dict_values(['rocky', 'mass', 1965])\n"
          ]
        }
      ]
    },
    {
      "cell_type": "markdown",
      "source": [
        "#get items"
      ],
      "metadata": {
        "id": "-2gXVhJOjVMz"
      }
    },
    {
      "cell_type": "code",
      "source": [
        "a = {\n",
        "  \"brand\": \"rocky\",\n",
        "  \"model\": \"mass\",\n",
        "  \"year\": 1965\n",
        "}\n",
        "w = a.items()\n",
        "print(w)"
      ],
      "metadata": {
        "colab": {
          "base_uri": "https://localhost:8080/"
        },
        "id": "QLVrdlhVi1Sz",
        "outputId": "14f80645-4f38-46af-8ce0-05499764be19"
      },
      "execution_count": null,
      "outputs": [
        {
          "output_type": "stream",
          "name": "stdout",
          "text": [
            "dict_items([('brand', 'rocky'), ('model', 'mass'), ('year', 1965)])\n"
          ]
        }
      ]
    },
    {
      "cell_type": "code",
      "source": [
        "a = {\n",
        "  \"brand\": \"rocky\",\n",
        "  \"model\": \"mass\",\n",
        "  \"year\": 1965\n",
        "}\n",
        "w = a.items()\n",
        "print(w)\n",
        "a[\"movie\"]=\"kgf\"\n",
        "print(w)"
      ],
      "metadata": {
        "colab": {
          "base_uri": "https://localhost:8080/"
        },
        "id": "4Fcwd2Eejhmc",
        "outputId": "74824361-563d-4f8a-acd3-3960b23081ad"
      },
      "execution_count": null,
      "outputs": [
        {
          "output_type": "stream",
          "name": "stdout",
          "text": [
            "dict_items([('brand', 'rocky'), ('model', 'mass'), ('year', 1965)])\n",
            "dict_items([('brand', 'rocky'), ('model', 'mass'), ('year', 1965), ('movie', 'kgf')])\n"
          ]
        }
      ]
    },
    {
      "cell_type": "markdown",
      "source": [
        "#check if key exists"
      ],
      "metadata": {
        "id": "POSKaSSwkEc9"
      }
    },
    {
      "cell_type": "code",
      "source": [
        "a = {\n",
        "  \"brand\": \"rocky\",\n",
        "  \"model\": \"mass\",\n",
        "  \"year\": 1965\n",
        "}\n",
        "if \"brand\" in a:\n",
        "  print(\"yes,'brand' is in a\")\n"
      ],
      "metadata": {
        "colab": {
          "base_uri": "https://localhost:8080/"
        },
        "id": "MYgPmRQekLYk",
        "outputId": "603ae164-52e8-4202-afb3-9b909a68fa39"
      },
      "execution_count": null,
      "outputs": [
        {
          "output_type": "stream",
          "name": "stdout",
          "text": [
            "yes,'brand' is in a\n"
          ]
        }
      ]
    },
    {
      "cell_type": "markdown",
      "source": [
        "#change values"
      ],
      "metadata": {
        "id": "f7XAQHzNCPOW"
      }
    },
    {
      "cell_type": "code",
      "source": [
        "a = {\n",
        "  \"brand\": \"rocky\",\n",
        "  \"model\": \"mass\",\n",
        "  \"year\": 1965\n",
        "}\n",
        "a[\"year\"]= 1986\n",
        "print(a)"
      ],
      "metadata": {
        "colab": {
          "base_uri": "https://localhost:8080/"
        },
        "id": "gf97MCrvCTU0",
        "outputId": "b9c33826-a1a3-4156-8c5c-a5f3fcf3102f"
      },
      "execution_count": 1,
      "outputs": [
        {
          "output_type": "stream",
          "name": "stdout",
          "text": [
            "{'brand': 'rocky', 'model': 'mass', 'year': 1986}\n"
          ]
        }
      ]
    },
    {
      "cell_type": "markdown",
      "source": [
        "#update dictionary"
      ],
      "metadata": {
        "id": "jEnErmZDCx-l"
      }
    },
    {
      "cell_type": "code",
      "source": [
        "a = {\n",
        "  \"brand\": \"rocky\",\n",
        "  \"model\": \"mass\",\n",
        "  \"year\": 1965\n",
        "}\n",
        "a.update({\"year\": 2030})\n",
        "print(a)"
      ],
      "metadata": {
        "colab": {
          "base_uri": "https://localhost:8080/"
        },
        "id": "D5lzhs9uC4w1",
        "outputId": "bdecc4a4-7f71-46d8-b198-8deb97919625"
      },
      "execution_count": 2,
      "outputs": [
        {
          "output_type": "stream",
          "name": "stdout",
          "text": [
            "{'brand': 'rocky', 'model': 'mass', 'year': 2030}\n"
          ]
        }
      ]
    },
    {
      "cell_type": "markdown",
      "source": [
        "#adding items"
      ],
      "metadata": {
        "id": "S5k3XJU2DYdl"
      }
    },
    {
      "cell_type": "code",
      "source": [
        "a = {\n",
        "  \"brand\": \"rocky\",\n",
        "  \"model\": \"mass\",\n",
        "  \"year\": 1965\n",
        "}\n",
        "a[\"colour\"]= \"red\"\n",
        "print(a)"
      ],
      "metadata": {
        "colab": {
          "base_uri": "https://localhost:8080/"
        },
        "id": "4WhIED7YDbb9",
        "outputId": "6f4396d2-3d66-4fad-b20a-a650e1f0a2c1"
      },
      "execution_count": 3,
      "outputs": [
        {
          "output_type": "stream",
          "name": "stdout",
          "text": [
            "{'brand': 'rocky', 'model': 'mass', 'year': 1965, 'colour': 'red'}\n"
          ]
        }
      ]
    },
    {
      "cell_type": "code",
      "source": [
        "a = {\n",
        "  \"brand\": \"rocky\",\n",
        "  \"model\": \"mass\",\n",
        "  \"year\": 1965\n",
        "}\n",
        "a.update({\"color\":\"red\"})\n",
        "print(a)"
      ],
      "metadata": {
        "colab": {
          "base_uri": "https://localhost:8080/"
        },
        "id": "pagkuPOBD562",
        "outputId": "1712cbb6-1e50-4b1a-835c-37ef8798ad3d"
      },
      "execution_count": 5,
      "outputs": [
        {
          "output_type": "stream",
          "name": "stdout",
          "text": [
            "{'brand': 'rocky', 'model': 'mass', 'year': 1965, 'color': 'red'}\n"
          ]
        }
      ]
    },
    {
      "cell_type": "markdown",
      "source": [
        "#removing items"
      ],
      "metadata": {
        "id": "mPY1imH5EM2W"
      }
    },
    {
      "cell_type": "code",
      "source": [
        "a = {\n",
        "  \"brand\": \"rocky\",\n",
        "  \"model\": \"mass\",\n",
        "  \"year\": 1965\n",
        "}\n",
        "a.pop(\"model\")\n",
        "print(a)"
      ],
      "metadata": {
        "colab": {
          "base_uri": "https://localhost:8080/"
        },
        "id": "C_NXSPD7EQkz",
        "outputId": "10932c63-6a3d-472c-df23-6b2bbd2d1dea"
      },
      "execution_count": 6,
      "outputs": [
        {
          "output_type": "stream",
          "name": "stdout",
          "text": [
            "{'brand': 'rocky', 'year': 1965}\n"
          ]
        }
      ]
    },
    {
      "cell_type": "code",
      "source": [
        "a = {\n",
        "  \"brand\": \"rocky\",\n",
        "  \"model\": \"mass\",\n",
        "  \"year\": 1965\n",
        "}\n",
        "a.popitem()\n",
        "print(a)"
      ],
      "metadata": {
        "colab": {
          "base_uri": "https://localhost:8080/"
        },
        "id": "cmoUPBi3EeFR",
        "outputId": "8431bb23-b2f7-4b99-b39f-46cda6890e69"
      },
      "execution_count": 7,
      "outputs": [
        {
          "output_type": "stream",
          "name": "stdout",
          "text": [
            "{'brand': 'rocky', 'model': 'mass'}\n"
          ]
        }
      ]
    },
    {
      "cell_type": "code",
      "source": [
        "a = {\n",
        "  \"brand\": \"rocky\",\n",
        "  \"model\": \"mass\",\n",
        "  \"year\": 1965\n",
        "}\n",
        "del a[\"model\"]\n",
        "print(a)"
      ],
      "metadata": {
        "colab": {
          "base_uri": "https://localhost:8080/"
        },
        "id": "xqq0HvmHEu22",
        "outputId": "72e30d67-417d-4935-85e3-8269a683b096"
      },
      "execution_count": 8,
      "outputs": [
        {
          "output_type": "stream",
          "name": "stdout",
          "text": [
            "{'brand': 'rocky', 'year': 1965}\n"
          ]
        }
      ]
    },
    {
      "cell_type": "code",
      "source": [
        "a = {\n",
        "  \"brand\": \"rocky\",\n",
        "  \"model\": \"mass\",\n",
        "  \"year\": 1965\n",
        "}\n",
        "a.clear()\n",
        "print(a)"
      ],
      "metadata": {
        "colab": {
          "base_uri": "https://localhost:8080/"
        },
        "id": "KikuoeCYE7J8",
        "outputId": "33341228-990e-46cb-9cec-30d156d46983"
      },
      "execution_count": 9,
      "outputs": [
        {
          "output_type": "stream",
          "name": "stdout",
          "text": [
            "{}\n"
          ]
        }
      ]
    },
    {
      "cell_type": "markdown",
      "source": [
        "#loop dictionary"
      ],
      "metadata": {
        "id": "H5SWEMa1FLvm"
      }
    },
    {
      "cell_type": "code",
      "source": [
        "a = {\n",
        "  \"brand\": \"rocky\",\n",
        "  \"model\": \"mass\",\n",
        "  \"year\": 1965\n",
        "}\n",
        "for w in a:\n",
        " print(a)"
      ],
      "metadata": {
        "colab": {
          "base_uri": "https://localhost:8080/"
        },
        "id": "3nAF9XADFPHk",
        "outputId": "da805c71-ff67-486c-8287-ce5e23049393"
      },
      "execution_count": 13,
      "outputs": [
        {
          "output_type": "stream",
          "name": "stdout",
          "text": [
            "{'brand': 'rocky', 'model': 'mass', 'year': 1965}\n",
            "{'brand': 'rocky', 'model': 'mass', 'year': 1965}\n",
            "{'brand': 'rocky', 'model': 'mass', 'year': 1965}\n"
          ]
        }
      ]
    },
    {
      "cell_type": "code",
      "source": [
        "a = {\n",
        "  \"brand\": \"rocky\",\n",
        "  \"model\": \"mass\",\n",
        "  \"year\": 1965\n",
        "}\n",
        "for w in a:\n",
        "  print(a[w])"
      ],
      "metadata": {
        "colab": {
          "base_uri": "https://localhost:8080/"
        },
        "id": "reSGjHboGYzc",
        "outputId": "6fa35bf2-f7a5-46a6-bc79-98e96b836f9d"
      },
      "execution_count": 14,
      "outputs": [
        {
          "output_type": "stream",
          "name": "stdout",
          "text": [
            "rocky\n",
            "mass\n",
            "1965\n"
          ]
        }
      ]
    },
    {
      "cell_type": "code",
      "source": [
        "a = {\n",
        "  \"brand\": \"rocky\",\n",
        "  \"model\": \"mass\",\n",
        "  \"year\": 1965\n",
        "}\n",
        "for w in a.values():\n",
        "  print(w)"
      ],
      "metadata": {
        "colab": {
          "base_uri": "https://localhost:8080/"
        },
        "id": "jE1tuRAvGxHN",
        "outputId": "318861c0-f252-4e54-b1a6-7201b0e932bb"
      },
      "execution_count": 16,
      "outputs": [
        {
          "output_type": "stream",
          "name": "stdout",
          "text": [
            "rocky\n",
            "mass\n",
            "1965\n"
          ]
        }
      ]
    },
    {
      "cell_type": "code",
      "source": [
        "a = {\n",
        "  \"brand\": \"rocky\",\n",
        "  \"model\": \"mass\",\n",
        "  \"year\": 1965\n",
        "}\n",
        "for w in a.keys():\n",
        "  print(a)"
      ],
      "metadata": {
        "colab": {
          "base_uri": "https://localhost:8080/"
        },
        "id": "2oekV77fG-7m",
        "outputId": "c0b2780c-5012-4322-c16d-4411160a7ae0"
      },
      "execution_count": 17,
      "outputs": [
        {
          "output_type": "stream",
          "name": "stdout",
          "text": [
            "{'brand': 'rocky', 'model': 'mass', 'year': 1965}\n",
            "{'brand': 'rocky', 'model': 'mass', 'year': 1965}\n",
            "{'brand': 'rocky', 'model': 'mass', 'year': 1965}\n"
          ]
        }
      ]
    },
    {
      "cell_type": "code",
      "source": [
        "a = {\n",
        "  \"brand\": \"rocky\",\n",
        "  \"model\": \"mass\",\n",
        "  \"year\": 1965\n",
        "}\n",
        "for x,y in a.items():\n",
        "  print(x,y)"
      ],
      "metadata": {
        "colab": {
          "base_uri": "https://localhost:8080/"
        },
        "id": "LOVInhNjHJ1n",
        "outputId": "88e3658a-d447-40ad-bdf0-c8aeaaf1396e"
      },
      "execution_count": 18,
      "outputs": [
        {
          "output_type": "stream",
          "name": "stdout",
          "text": [
            "brand rocky\n",
            "model mass\n",
            "year 1965\n"
          ]
        }
      ]
    },
    {
      "cell_type": "markdown",
      "source": [
        "#copy dictionary"
      ],
      "metadata": {
        "id": "KF8HmkhtHZOM"
      }
    },
    {
      "cell_type": "code",
      "source": [
        "a = {\n",
        "  \"brand\": \"rocky\",\n",
        "  \"model\": \"mass\",\n",
        "  \"year\": 1965\n",
        "}\n",
        "b = a.copy()\n",
        "print(b)"
      ],
      "metadata": {
        "colab": {
          "base_uri": "https://localhost:8080/"
        },
        "id": "cyIBbJIyHdFk",
        "outputId": "6bc00d48-5fb3-41e7-8446-45c28460ca05"
      },
      "execution_count": 19,
      "outputs": [
        {
          "output_type": "stream",
          "name": "stdout",
          "text": [
            "{'brand': 'rocky', 'model': 'mass', 'year': 1965}\n"
          ]
        }
      ]
    },
    {
      "cell_type": "markdown",
      "source": [
        "#nested dictionaries"
      ],
      "metadata": {
        "id": "xcm3_q0eIKlt"
      }
    },
    {
      "cell_type": "code",
      "source": [
        "a = {\n",
        "  \"brand1\": {\n",
        "  \"model\": \"mass\",\n",
        "  \"year\": 1965\n",
        "},\n",
        "  \"brand2\": {\n",
        "  \"model\": \"mass\",\n",
        "  \"year\": 1965\n",
        "},\n",
        "  \"brand3\": {\n",
        "  \"model\": \"mass\",\n",
        "  \"year\": 1968\n",
        "},\n",
        "  \"brand4\": {\n",
        "  \"model\": \"mass\",\n",
        "  \"year\": 1965\n",
        "}\n",
        "   }\n",
        " \n",
        "print(a)"
      ],
      "metadata": {
        "colab": {
          "base_uri": "https://localhost:8080/"
        },
        "id": "wXPjI8J5IRl1",
        "outputId": "aac1074a-f17c-4989-a668-44e02a2929a0"
      },
      "execution_count": 26,
      "outputs": [
        {
          "output_type": "stream",
          "name": "stdout",
          "text": [
            "{'brand1': {'model': 'mass', 'year': 1965}, 'brand2': {'model': 'mass', 'year': 1965}, 'brand3': {'model': 'mass', 'year': 1968}, 'brand4': {'model': 'mass', 'year': 1965}}\n"
          ]
        }
      ]
    }
  ]
}