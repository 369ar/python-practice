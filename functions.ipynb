{
  "nbformat": 4,
  "nbformat_minor": 0,
  "metadata": {
    "colab": {
      "name": "functions.ipynb",
      "provenance": [],
      "authorship_tag": "ABX9TyN2t87lNgkGN89flc+PgbrZ",
      "include_colab_link": true
    },
    "kernelspec": {
      "name": "python3",
      "display_name": "Python 3"
    },
    "language_info": {
      "name": "python"
    }
  },
  "cells": [
    {
      "cell_type": "markdown",
      "metadata": {
        "id": "view-in-github",
        "colab_type": "text"
      },
      "source": [
        "<a href=\"https://colab.research.google.com/github/ARAVIND-065/python-practice/blob/main/functions.ipynb\" target=\"_parent\"><img src=\"https://colab.research.google.com/assets/colab-badge.svg\" alt=\"Open In Colab\"/></a>"
      ]
    },
    {
      "cell_type": "code",
      "execution_count": 7,
      "metadata": {
        "colab": {
          "base_uri": "https://localhost:8080/"
        },
        "id": "NORGKhyTXNdP",
        "outputId": "3273472d-d24f-4ab3-a33a-db166fdb1657"
      },
      "outputs": [
        {
          "output_type": "stream",
          "name": "stdout",
          "text": [
            "violence\n",
            "violence, ...\n",
            "violence,..  I dont like it I avoid it \n",
            "But violence likes me , I can't avoid\n"
          ]
        }
      ],
      "source": [
        "def kgf():\n",
        "  print(\"violence\")\n",
        "  print(\"violence, ...\")\n",
        "  print(\"violence,..  I dont like it I avoid it \")\n",
        "  print(\"But violence likes me , I can't avoid\")\n",
        "kgf();"
      ]
    },
    {
      "cell_type": "code",
      "source": [
        "def mirzapur(s):\n",
        " print(s  +  \" king of mirzapur\")\n",
        "mirzapur(\"guddu bhaiya\")\n",
        "mirzapur(\"kaleen bhaiya\")\n",
        "mirzapur(\"munna bhaiya\")         "
      ],
      "metadata": {
        "colab": {
          "base_uri": "https://localhost:8080/"
        },
        "id": "XpL4nTgtZFb-",
        "outputId": "7e514a44-4a8e-4215-a888-62bd16a02ef1"
      },
      "execution_count": 11,
      "outputs": [
        {
          "output_type": "stream",
          "name": "stdout",
          "text": [
            "guddu bhaiya king of mirzapur\n",
            "kaleen bhaiya king of mirzapur\n",
            "munna bhaiya king of mirzapur\n"
          ]
        }
      ]
    },
    {
      "cell_type": "code",
      "source": [
        "def mirzapur(*kings):\n",
        "  print(\"top king is \"  + kings[2] )\n",
        "mirzapur(\"guddu\", \"kaleen\", \"munna\")  "
      ],
      "metadata": {
        "colab": {
          "base_uri": "https://localhost:8080/"
        },
        "id": "aEa_QpfWckfP",
        "outputId": "2b083322-ac7a-49ea-a354-79f27365a0a7"
      },
      "execution_count": 14,
      "outputs": [
        {
          "output_type": "stream",
          "name": "stdout",
          "text": [
            "top king is munna\n"
          ]
        }
      ]
    },
    {
      "cell_type": "code",
      "source": [
        "def vote(age, gender, name):\n",
        "  print(\"age=\", age ,\"gender=\", gender, \"name=\", name)\n",
        "  if age>=18:\n",
        "    print(\"eligible\")\n",
        "  else:  \n",
        "    print(\"not eligible\")\n",
        "vote(int(input()),str(input()),str(input()))"
      ],
      "metadata": {
        "colab": {
          "base_uri": "https://localhost:8080/"
        },
        "id": "bVxgEmwEdAwu",
        "outputId": "612b3cc5-1f42-4b57-b9aa-d08a0872cc7c"
      },
      "execution_count": 30,
      "outputs": [
        {
          "output_type": "stream",
          "name": "stdout",
          "text": [
            "45\n",
            "male\n",
            "rocky\n",
            "age= 45 gender= male name= rocky\n",
            "eligible\n"
          ]
        }
      ]
    },
    {
      "cell_type": "markdown",
      "source": [
        "#python buit in functions"
      ],
      "metadata": {
        "id": "TWch_KsMlKlH"
      }
    },
    {
      "cell_type": "code",
      "source": [
        "num = -30\n",
        "google = abs(num)\n",
        "print(google)"
      ],
      "metadata": {
        "colab": {
          "base_uri": "https://localhost:8080/"
        },
        "id": "Rw61Gzu1lOI2",
        "outputId": "ee9ace4b-ecf7-4193-b659-441abe04954d"
      },
      "execution_count": 32,
      "outputs": [
        {
          "output_type": "stream",
          "name": "stdout",
          "text": [
            "30\n"
          ]
        }
      ]
    },
    {
      "cell_type": "code",
      "source": [
        ""
      ],
      "metadata": {
        "id": "Wg15ToTdYHV9"
      },
      "execution_count": 30,
      "outputs": []
    }
  ]
}