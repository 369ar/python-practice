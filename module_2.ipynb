{
  "cells": [
    {
      "cell_type": "markdown",
      "metadata": {
        "id": "view-in-github",
        "colab_type": "text"
      },
      "source": [
        "<a href=\"https://colab.research.google.com/github/ARAVIND-065/python-practice/blob/main/module_2.ipynb\" target=\"_parent\"><img src=\"https://colab.research.google.com/assets/colab-badge.svg\" alt=\"Open In Colab\"/></a>"
      ]
    },
    {
      "cell_type": "markdown",
      "id": "df48a609",
      "metadata": {
        "id": "df48a609"
      },
      "source": [
        "# findout the peroson is aligible for voting or not"
      ]
    },
    {
      "cell_type": "code",
      "execution_count": null,
      "id": "033f928a",
      "metadata": {
        "id": "033f928a",
        "outputId": "b9b94111-3311-46d3-a277-0b13a617e652"
      },
      "outputs": [
        {
          "name": "stdout",
          "output_type": "stream",
          "text": [
            "enter your age19\n",
            "eligible for voting\n"
          ]
        }
      ],
      "source": [
        "a=int(input(\"enter your age\"))\n",
        "if(a>=18):\n",
        "    print(\"eligible for voting\")\n",
        "else:\n",
        "        print(\"not elegible for voting\")"
      ]
    },
    {
      "cell_type": "markdown",
      "id": "dc54a918",
      "metadata": {
        "id": "dc54a918"
      },
      "source": [
        "# maximum of 3 numbers dynamic"
      ]
    },
    {
      "cell_type": "code",
      "execution_count": null,
      "id": "56d4d67a",
      "metadata": {
        "id": "56d4d67a",
        "outputId": "4c94ad1f-fef6-4ecb-f342-cd594e801c4e"
      },
      "outputs": [
        {
          "name": "stdout",
          "output_type": "stream",
          "text": [
            "enter 1st number12\n",
            "enter 2nd number3\n",
            "enter 3rd number13\n",
            "c is greater\n"
          ]
        }
      ],
      "source": [
        "a=int(input(\"enter 1st number\"))\n",
        "b=int(input(\"enter 2nd number\"))\n",
        "c=int(input(\"enter 3rd number\"))\n",
        "if(a>b and a>c):\n",
        "    print(\"a is greater\")\n",
        "elif(b>a and b>c):\n",
        "    print(\"b is greater\")\n",
        "else:\n",
        "    print(\"c is greater\")"
      ]
    },
    {
      "cell_type": "markdown",
      "id": "6f53cd3f",
      "metadata": {
        "id": "6f53cd3f"
      },
      "source": [
        "# # maximum of 3 numbers static"
      ]
    },
    {
      "cell_type": "code",
      "execution_count": null,
      "id": "fdaf0a74",
      "metadata": {
        "id": "fdaf0a74",
        "outputId": "0bada99f-b7de-46e6-e12f-1fc7cd3e7cc3"
      },
      "outputs": [
        {
          "name": "stdout",
          "output_type": "stream",
          "text": [
            "c is greater\n"
          ]
        }
      ],
      "source": [
        "\n",
        "if(a>b and a>c):\n",
        "    print(\"a is greater\")\n",
        "elif(b>a and b>c):\n",
        "    print(\"b is greater\")\n",
        "else:\n",
        "    print(\"c is greater\")\n",
        "    a=13 \n",
        "    b=11\n",
        "    c=16                                                                                                                                                                                                                                                                                                                                                                           "
      ]
    },
    {
      "cell_type": "markdown",
      "id": "55d43e94",
      "metadata": {
        "id": "55d43e94"
      },
      "source": [
        "# 5 subjects average"
      ]
    },
    {
      "cell_type": "code",
      "execution_count": null,
      "id": "c10385d9",
      "metadata": {
        "id": "c10385d9",
        "outputId": "a6eb810e-b314-4d9b-d940-7a2185e68751"
      },
      "outputs": [
        {
          "name": "stdout",
          "output_type": "stream",
          "text": [
            "enter the 1st sub marks13\n",
            "enter the 2nd sub marks13\n",
            "enter the 3rd sub marks13\n",
            "enter the 4th sub marks13\n",
            "enter the 5th sub marks3\n",
            "the avg of 5 subjects is11.0\n"
          ]
        }
      ],
      "source": [
        "a=int(input(\"enter the 1st sub marks\"))\n",
        "b=int(input(\"enter the 2nd sub marks\"))\n",
        "c=int(input(\"enter the 3rd sub marks\"))\n",
        "d=int(input(\"enter the 4th sub marks\"))\n",
        "e=int(input(\"enter the 5th sub marks\"))\n",
        "avg=(a+b+c+d+e)/5\n",
        "print(\"the avg of 5 subjects is\"+str(avg))"
      ]
    },
    {
      "cell_type": "code",
      "execution_count": null,
      "id": "b9f4b7a5",
      "metadata": {
        "id": "b9f4b7a5"
      },
      "outputs": [],
      "source": [
        ""
      ]
    },
    {
      "cell_type": "markdown",
      "source": [
        ""
      ],
      "metadata": {
        "id": "qvObORQjefBV"
      },
      "id": "qvObORQjefBV"
    },
    {
      "cell_type": "markdown",
      "source": [
        ""
      ],
      "metadata": {
        "id": "BUlrTX-ved1u"
      },
      "id": "BUlrTX-ved1u"
    }
  ],
  "metadata": {
    "kernelspec": {
      "display_name": "Python 3 (ipykernel)",
      "language": "python",
      "name": "python3"
    },
    "language_info": {
      "codemirror_mode": {
        "name": "ipython",
        "version": 3
      },
      "file_extension": ".py",
      "mimetype": "text/x-python",
      "name": "python",
      "nbconvert_exporter": "python",
      "pygments_lexer": "ipython3",
      "version": "3.9.7"
    },
    "colab": {
      "name": "module 2.ipynb",
      "provenance": [],
      "include_colab_link": true
    }
  },
  "nbformat": 4,
  "nbformat_minor": 5
}