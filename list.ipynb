{
  "nbformat": 4,
  "nbformat_minor": 0,
  "metadata": {
    "colab": {
      "name": "list.ipynb",
      "provenance": [],
      "authorship_tag": "ABX9TyN75Uep4Il620QW/bbVat+P",
      "include_colab_link": true
    },
    "kernelspec": {
      "name": "python3",
      "display_name": "Python 3"
    },
    "language_info": {
      "name": "python"
    }
  },
  "cells": [
    {
      "cell_type": "markdown",
      "metadata": {
        "id": "view-in-github",
        "colab_type": "text"
      },
      "source": [
        "<a href=\"https://colab.research.google.com/github/ARAVIND-065/python-practice/blob/main/list.ipynb\" target=\"_parent\"><img src=\"https://colab.research.google.com/assets/colab-badge.svg\" alt=\"Open In Colab\"/></a>"
      ]
    },
    {
      "cell_type": "markdown",
      "source": [
        "fruit names"
      ],
      "metadata": {
        "id": "P0874la74_CJ"
      }
    },
    {
      "cell_type": "code",
      "source": [
        "fruit=[\"mango\",\"apple\",\"orange\",\"papaya\",\"strawberry\"]\n",
        "print(fruit[0:2])\n",
        "print(fruit[4])\n",
        "print(fruit[-2])\n",
        "print(fruit[:3])\n",
        "print(fruit[3:])\n",
        "print(fruit[:])\n",
        "print(fruit[-4:-1])\n",
        "fruit[1]= \"blackberry\"\n",
        "print(fruit) \n",
        "print(len(fruit))\n",
        "print(type(fruit))\n",
        "fruit.insert(2,\"grape\")\n",
        "print(fruit)\n",
        "fruit.append(\"goole\")\n",
        "print(fruit)\n",
        "fruit.reverse()\n",
        "print(fruit)"
      ],
      "metadata": {
        "colab": {
          "base_uri": "https://localhost:8080/"
        },
        "id": "fxKtYCw65Qco",
        "outputId": "ae286adf-cfe9-41a4-a173-d23be63f9d0f"
      },
      "execution_count": 21,
      "outputs": [
        {
          "output_type": "stream",
          "name": "stdout",
          "text": [
            "['mango', 'apple']\n",
            "strawberry\n",
            "papaya\n",
            "['mango', 'apple', 'orange']\n",
            "['papaya', 'strawberry']\n",
            "['mango', 'apple', 'orange', 'papaya', 'strawberry']\n",
            "['apple', 'orange', 'papaya']\n",
            "['mango', 'blackberry', 'orange', 'papaya', 'strawberry']\n",
            "5\n",
            "<class 'list'>\n",
            "['mango', 'blackberry', 'grape', 'orange', 'papaya', 'strawberry']\n",
            "['mango', 'blackberry', 'grape', 'orange', 'papaya', 'strawberry', 'goole']\n",
            "['goole', 'strawberry', 'papaya', 'orange', 'grape', 'blackberry', 'mango']\n"
          ]
        }
      ]
    },
    {
      "cell_type": "markdown",
      "source": [
        "my list"
      ],
      "metadata": {
        "id": "fMKiLJCZ9vNb"
      }
    },
    {
      "cell_type": "code",
      "source": [
        "\n",
        "my_list = ['p','r','o','g','r','a','m','i','z']\n",
        "print(my_list[2:5])\n",
        "print(my_list[5:])\n",
        "print(my_list[:])"
      ],
      "metadata": {
        "colab": {
          "base_uri": "https://localhost:8080/"
        },
        "id": "KTD_-Cq1Ai3o",
        "outputId": "1f7d126d-b061-423f-f500-20483038067b"
      },
      "execution_count": 10,
      "outputs": [
        {
          "output_type": "stream",
          "name": "stdout",
          "text": [
            "['o', 'g', 'r']\n",
            "['a', 'm', 'i', 'z']\n",
            "['p', 'r', 'o', 'g', 'r', 'a', 'm', 'i', 'z']\n"
          ]
        }
      ]
    }
  ]
}